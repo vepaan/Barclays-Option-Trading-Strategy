{
 "cells": [
  {
   "cell_type": "code",
   "execution_count": 304,
   "metadata": {},
   "outputs": [
    {
     "data": {
      "text/plain": [
       "'BARCLAYS OPTION TRADING STRATEGY'"
      ]
     },
     "execution_count": 304,
     "metadata": {},
     "output_type": "execute_result"
    }
   ],
   "source": [
    "'''BARCLAYS OPTION TRADING STRATEGY'''\n",
    "#This strat aims to exploit the gap between implied option vol and historical vol (volatility risk premium)\n",
    "#Retail traders in the past years have created huge liquidity for short-dated calls on large cap stocks\n",
    "#We build a strat around this that basically buys undervalued calls and sells overvalued ones\n",
    "#The expiration date we select is going to be 2 weeks, as this is where most liquidiy is concentrated"
   ]
  },
  {
   "cell_type": "code",
   "execution_count": 305,
   "metadata": {},
   "outputs": [],
   "source": [
    "import yfinance as yf\n",
    "import numpy as np\n",
    "import matplotlib.pyplot as plt\n",
    "import dotenv\n",
    "import os\n",
    "import pandas as pd\n",
    "import warnings\n",
    "import datetime\n",
    "import requests\n",
    "from pymongo import MongoClient\n",
    "\n",
    "warnings.filterwarnings('ignore')\n",
    "\n",
    "dotenv.load_dotenv()\n",
    "ALPHA_API = os.getenv(\"ALPHA_VANTAGE\")\n",
    "MONGO_URI = os.getenv(\"MONGO_URI\")\n",
    "\n",
    "client = MongoClient(MONGO_URI)\n",
    "db = client['Barclays-Options']\n",
    "collection = db['options-data']\n"
   ]
  },
  {
   "cell_type": "code",
   "execution_count": 306,
   "metadata": {},
   "outputs": [
    {
     "name": "stderr",
     "output_type": "stream",
     "text": [
      "[*********************100%***********************]  503 of 503 completed\n"
     ]
    }
   ],
   "source": [
    "'''Taking data from spy stocks to build the strat around'''\n",
    "#We parse the wikipedia page for spy data\n",
    "\n",
    "sp500 = pd.read_html('https://en.wikipedia.org/wiki/List_of_S%26P_500_companies')[0]\n",
    "sp500['Symbol'] = sp500['Symbol'].str.replace('.', '-')\n",
    "tickers = sp500['Symbol'].unique().tolist()\n",
    "\n",
    "data = yf.download(tickers, period='1y')\n",
    "data = data.stack()\n",
    "data.index.names = ['date', 'ticker']\n",
    "data.columns = data.columns.str.lower()"
   ]
  },
  {
   "cell_type": "code",
   "execution_count": 307,
   "metadata": {},
   "outputs": [],
   "source": [
    "'''Well now filter by dollar volume to only opearte with the stocks which fit our liquidity constraints'''\n",
    "#We will compute the mean dollar volume from the past year to filter liquid stocks\n",
    "#Further, we selecct large cap stocks, as retail trader liquidity is more likely concentrated here\n",
    "\n",
    "latest_date = data.index.get_level_values('date').max() #we use this below for option vol\n",
    "\n",
    "data['dollarvol'] = (data['close'] * data['volume']) / 1e6\n",
    "data = data.groupby('ticker').mean() #finding mean dollar vol over past year\n",
    "\n",
    "data = data.sort_values(by='dollarvol', ascending = False)\n",
    "data = data.head(20) #top 20 liquid stocks"
   ]
  },
  {
   "cell_type": "code",
   "execution_count": 308,
   "metadata": {},
   "outputs": [
    {
     "name": "stdout",
     "output_type": "stream",
     "text": [
      "Ticker  1  done\n",
      "Ticker  2  done\n",
      "Ticker  3  done\n",
      "Ticker  4  done\n",
      "Ticker  5  done\n",
      "Ticker  6  done\n",
      "Ticker  7  done\n",
      "Ticker  8  done\n",
      "Ticker  9  done\n",
      "Ticker  10  done\n",
      "Ticker  11  done\n",
      "Ticker  12  done\n",
      "Ticker  13  done\n",
      "Ticker  14  done\n",
      "Ticker  15  done\n",
      "Ticker  16  done\n",
      "Ticker  17  done\n",
      "Ticker  18  done\n",
      "Ticker  19  done\n",
      "Ticker  20  done\n"
     ]
    }
   ],
   "source": [
    "'''Lets try to build a options volume column in the dataframe'''\n",
    "#I tweaked with the weeks value and found the most liquidity to be in 2 weeks expriration date options, so we go with that\n",
    "#This is an incredibly slow process, as yfinance doesn't give option volume directly and we have to find a workaround\n",
    "#We now filter top 10 stocks with highest option volume\n",
    "#Liquidity is either most concentrated in 1 week expiry options or 2 week expiry options\n",
    "\n",
    "'''BUG => Too slow when trying to first filter by option volume, so did that later'''\n",
    "\n",
    "data['option_volume'] = None\n",
    "data['sector'] = None\n",
    "\n",
    "latest_tickers = data.index.get_level_values('ticker')\n",
    "\n",
    "count = 1\n",
    "\n",
    "for tckr in latest_tickers:\n",
    "    #expiration_date = (latest_date + timedelta(weeks=2)).strftime('%Y-%m-%d') #or tckr.options[1]\n",
    "\n",
    "    tk = yf.Ticker(tckr)\n",
    "    expiration_date = tk.options[1]\n",
    "    opt_chain = tk.option_chain(expiration_date)\n",
    "\n",
    "    option_volume = opt_chain.calls['volume'].sum() + opt_chain.puts['volume'].sum()\n",
    "\n",
    "    data.loc[tckr, 'option_volume'] = option_volume\n",
    "    data.loc[tckr, 'sector'] = tk.info.get('sector', 'NA')\n",
    "\n",
    "    print(\"Ticker \", count, \" done\")\n",
    "    count += 1"
   ]
  },
  {
   "cell_type": "code",
   "execution_count": 309,
   "metadata": {},
   "outputs": [],
   "source": [
    "'''Checking how different max_dollar_volume and max_option_volume tickers are'''\n",
    "\n",
    "data = data.sort_values(by='dollarvol', ascending = False)\n",
    "max_dollar_vol = data.head(10)\n",
    "\n",
    "data = data.sort_values(by='option_volume', ascending = False)\n",
    "max_option_vol = data.head(10)\n",
    "\n",
    "max_dvol= set(max_dollar_vol.index.to_list())\n",
    "max_ovol = set(max_option_vol.index.to_list())\n",
    "\n",
    "max_dvol.difference(max_ovol)\n",
    "max_ovol.difference(max_dvol)\n",
    "\n",
    "data = max_option_vol"
   ]
  },
  {
   "cell_type": "code",
   "execution_count": 310,
   "metadata": {},
   "outputs": [],
   "source": [
    "'''Now, we will create a hashmap that maps each sector to its exchange traded fund(if it exists)'''\n",
    "#We will need this later for the stat arb strategy\n",
    "#There is no easy way to do this, so well select all popular etfs, view the sector of the top holding of each and create a map\n",
    "\n",
    "etfs = [\n",
    "    'XLK',  # Technology Select Sector SPDR Fund\n",
    "    'XLF',  # Financial Select Sector SPDR Fund\n",
    "    'XLV',  # Health Care Select Sector SPDR Fund\n",
    "    'XLY',  # Consumer Discretionary Select Sector SPDR Fund\n",
    "    'XLP',  # Consumer Staples Select Sector SPDR Fund\n",
    "    'XLE',  # Energy Select Sector SPDR Fund\n",
    "    'XLB',  # Materials Select Sector SPDR Fund\n",
    "    'XLI',  # Industrial Select Sector SPDR Fund\n",
    "    'XLU',  # Utilities Select Sector SPDR Fund\n",
    "    'XLRE', # Real Estate Select Sector SPDR Fund\n",
    "    'XLC',  # Communication Services Select Sector SPDR Fund\n",
    "    'EEM',  # iShares MSCI Emerging Markets ETF\n",
    "    'SPY',  # SPDR S&P 500 ETF Trust\n",
    "    'VTI',  # Vanguard Total Stock Market ETF\n",
    "    'VTV'   # Vanguard Value ETF\n",
    "]\n",
    "\n",
    "sector_to_etf = {}\n",
    "\n",
    "for etf in etfs:\n",
    "    etf_data = yf.Ticker(etf).funds_data.top_holdings\n",
    "    etf_ticker = etf_data.index[0] #first holding\n",
    "    sector = yf.Ticker(etf_ticker).info.get('sector', 'NA')\n",
    "    sector_to_etf[sector] = etf"
   ]
  },
  {
   "cell_type": "code",
   "execution_count": 311,
   "metadata": {},
   "outputs": [
    {
     "data": {
      "text/plain": [
       "'CONSIDERATIONS'"
      ]
     },
     "execution_count": 311,
     "metadata": {},
     "output_type": "execute_result"
    }
   ],
   "source": [
    "'''NOW COMES THE FUN QUANT PART'''\n",
    "#We need a VolScore metric that can identify the spread of volatility risk premium\n",
    "#Barclays doesn't reveal what they used to calculate volScore\n",
    "#An educated guess (based on traditional pairs trading) is that we compare implied vol to historical vol AND sector vol\n",
    "#Underlying assumption is that vol deviations are temporary (mean reversion)\n",
    "#The formula I agree on is:\n",
    "\n",
    "#            IV - (w1 * HV  +  w2 * SV)\n",
    "# VolScore = --------------------------\n",
    "#                    sigma_res\n",
    "\n",
    "#w1 and w2 are weights that we'll determine with RollingOLS or Kalman Filter\n",
    "#Weights should be time-varying preferably\n",
    "#There is no need to weight IV too as the rationale is that IV already embeds the risk premium\n",
    "#This comes from training GARCH models research - Univ of North Carolina research\n",
    "\n",
    "# IV = w0 + w1 * HV + w2 * SV + epsilon_t\n",
    "# epsilon_t is our error term, IV - IV_hat or residual\n",
    "# IV is actual implied volatility and IV_hat is what our model estimates it to be\n",
    "# The error term in the reason we normalize as we can't say if a given residue is significant or just market noise\n",
    "\n",
    "#sigma_res is the standard deviation of residuals\n",
    "#historical deviation of IV from weighted avg of HV and SV\n",
    "#This normalization lets us use VolScore like a z-score, which lets us better gauge tradding opps\n",
    "\n",
    "'''CONSIDERATIONS'''\n",
    "#Use HFT data for HV as it helps capture intraday price movements that daily data can miss\n",
    "#this reduces noise in data as shown by past research - Barndorff-Nielsen and Shephard\n",
    "#Might have to do more research on how many years of data is best suited for pairs trading, curr is 1 yr"
   ]
  },
  {
   "cell_type": "code",
   "execution_count": 374,
   "metadata": {},
   "outputs": [
    {
     "name": "stderr",
     "output_type": "stream",
     "text": [
      "[*********************100%***********************]  3 of 3 completed\n"
     ]
    }
   ],
   "source": [
    "'''Downloading etf data'''\n",
    "#We will need this to compute the historical volatility of the sector\n",
    "#We'll compute the daily volatilites for every day, mean them and find the annualized avg vol\n",
    "\n",
    "\n",
    "req_etfs = [sector_to_etf[s] for s in data.sector.unique()]\n",
    "tickers = \" \".join(req_etfs)\n",
    "\n",
    "etf_data = yf.download(tickers, period=\"3y\")\n",
    "etf_data = etf_data.stack()\n",
    "etf_data.index.names = ['date', 'ticker']\n",
    "etf_data.columns = etf_data.columns.str.lower()"
   ]
  },
  {
   "cell_type": "code",
   "execution_count": 375,
   "metadata": {},
   "outputs": [],
   "source": [
    "'''Computing historical volatility'''\n",
    "\n",
    "def calculate_hv(df, col):\n",
    "    df = df.sort_index(level='date')\n",
    "    \n",
    "    returns = df['close'] / df['close'].shift(1)\n",
    "    df['log_returns'] = np.log(returns)\n",
    "    rolling_vol = df['log_returns'].rolling(window=252).std()\n",
    "    df[col] = rolling_vol * np.sqrt(252)  # annual vol\n",
    "    \n",
    "    return df"
   ]
  },
  {
   "cell_type": "code",
   "execution_count": 314,
   "metadata": {},
   "outputs": [],
   "source": [
    "# etff = yf.download('XLY', period='1mo')\n",
    "# etff = etff.sort_values(by = \"Date\", ascending=False)\n",
    "# etff = etff.head(2)\n",
    "# print(etff.Close.XLY[-1], etff.Close.XLY[0])\n",
    "# np.log(etff.Close.XLY[0] / etff.Close.XLY[-1])"
   ]
  },
  {
   "cell_type": "code",
   "execution_count": 376,
   "metadata": {},
   "outputs": [
    {
     "name": "stderr",
     "output_type": "stream",
     "text": [
      "[*********************100%***********************]  10 of 10 completed\n"
     ]
    }
   ],
   "source": [
    "'''Now we download the data for the 10 stocks we selected'''\n",
    "#These contain all the actual option contracts we will be trading\n",
    "#The dataframe consists of a IV section, which we'll use in the model we created\n",
    "\n",
    "tickers = \" \".join(data.index.tolist())\n",
    "\n",
    "options_data = yf.download(tickers, period=\"3y\")\n",
    "options_data = options_data.stack()\n",
    "options_data.index.names = ['date', 'ticker']\n",
    "options_data.columns = options_data.columns.str.lower()"
   ]
  },
  {
   "cell_type": "code",
   "execution_count": 377,
   "metadata": {},
   "outputs": [],
   "source": [
    "etf_data = etf_data.groupby(\"ticker\").apply(calculate_hv, 'HV').dropna()\n",
    "options_data = options_data.groupby(\"ticker\").apply(calculate_hv, 'RV').dropna()"
   ]
  },
  {
   "cell_type": "code",
   "execution_count": 378,
   "metadata": {},
   "outputs": [],
   "source": [
    "'''Run this script only once, otherwise necessary cols will be deleted'''\n",
    "\n",
    "etf_data = etf_data.reset_index(level=2, drop=True) #removing duplicate ticker index\n",
    "options_data = options_data.reset_index(level=2, drop=True)"
   ]
  },
  {
   "cell_type": "code",
   "execution_count": 379,
   "metadata": {},
   "outputs": [],
   "source": [
    "'''Modifying the options_data dataframe to include the HV for the corresponding ticker-etf pair'''\n",
    "#BUG: for loop was very slow here, so i ended up using previous dataframes mapping\n",
    "\n",
    "options_data['sector'] = options_data.index.get_level_values('ticker').map(data['sector'])\n",
    "options_data['ETF'] = options_data['sector'].map(sector_to_etf)\n",
    "\n",
    "func = lambda row: etf_data.loc[(row['ETF'], row.name[1]), 'HV'] if (row['ETF'], row.name[1]) in etf_data.index else None\n",
    "\n",
    "options_data['SV'] = options_data.apply(func, axis=1)\n",
    "\n",
    "options_data.drop(columns=['ETF', 'sector'], axis=1, inplace=True)\n",
    "options_data = options_data.dropna()"
   ]
  },
  {
   "cell_type": "code",
   "execution_count": 319,
   "metadata": {},
   "outputs": [
    {
     "name": "stdout",
     "output_type": "stream",
     "text": [
      "Data pushed to cluster for NVDA\n",
      "Data pushed to cluster for TSLA\n",
      "Data pushed to cluster for AAPL\n",
      "Data pushed to cluster for PLTR\n",
      "Data pushed to cluster for AMZN\n",
      "Data pushed to cluster for AMD\n",
      "Data pushed to cluster for SMCI\n",
      "Data pushed to cluster for INTC\n",
      "Data pushed to cluster for META\n",
      "Data pushed to cluster for MU\n"
     ]
    }
   ],
   "source": [
    "'''Downloading options data for past two years to compute VIX'''\n",
    "#Im using alphavantage API as this was the best service that I could find for free\n",
    "#However alphavantage doesn't have a good way to directly fetch data as a dataframe\n",
    "#It gives responses in json, which Im manually converting into a pd Df\n",
    "#Because alphavantage rate limits (25 per day), ill store data to a MongoDB cluster first\n",
    "\n",
    "two_yrs = (datetime.datetime.today() - datetime.timedelta(weeks=104)).strftime('%Y-%m-%d')\n",
    "collection.delete_many({}) #deleting all the 10 stocks for now\n",
    "\n",
    "for ticker in data.index.get_level_values('ticker').tolist():\n",
    "    url = 'https://www.alphavantage.co/query?' \\\n",
    "    'function=HISTORICAL_OPTIONS&symbol='+ticker+'&apikey='+ALPHA_API+'&date='+two_yrs\n",
    "\n",
    "    r = requests.get(url)\n",
    "\n",
    "    push_data = r.json()\n",
    "    push_data['_id'] = ticker\n",
    "\n",
    "    collection.insert_one(push_data)\n",
    "\n",
    "    print(\"Data pushed to cluster for \" + ticker)"
   ]
  },
  {
   "cell_type": "code",
   "execution_count": 380,
   "metadata": {},
   "outputs": [],
   "source": [
    "'''Script to convert json data to Pandas dataframe'''\n",
    "'''Script to query for data of a specific ticker from our Mongo cluster'''\n",
    "\n",
    "def json_to_df(json_data): #json_data should be r.json()['data']\n",
    "    ticker_options = pd.DataFrame()\n",
    "    for day_data in json_data:\n",
    "        ticker_options = pd.concat([ticker_options, pd.DataFrame([day_data])], ignore_index=True)\n",
    "\n",
    "    return ticker_options\n",
    "\n",
    "def get_data(ticker):\n",
    "    mongo_data = collection.find_one({\"_id\": ticker})\n",
    "    if mongo_data is None:\n",
    "        return \"Data not found for \" + ticker\n",
    "    else:\n",
    "        return json_to_df(mongo_data['data']).sort_values(by='expiration')"
   ]
  },
  {
   "cell_type": "code",
   "execution_count": 381,
   "metadata": {},
   "outputs": [
    {
     "data": {
      "text/plain": [
       "'Now we need to compute the implied volatitlies of each ticker'"
      ]
     },
     "execution_count": 381,
     "metadata": {},
     "output_type": "execute_result"
    }
   ],
   "source": [
    "'''Now we need to compute the implied volatitlies of each ticker'''\n",
    "#We run into a problem where each option has option contracts with differing volatilities\n",
    "#A simple average wont cut it as options differ in ATM and ITM status, and in moneyness\n",
    "#A weighted average is a good place to start\n",
    "#We can also build our own VIX like model\n",
    "\n",
    "# The formula is: \n",
    "#    sigma² = (2 * e^(r*T) / T) * Σ [ (ΔK_i / K_i²) * Q(K_i) ] - (1/T) * ((F/K₀ - 1)²)\n",
    "\n",
    "# T is the time to expiration in years (typically 30/365 for 30 days), and r is the risk-free rate.\n",
    "# ΔK_i represents the interval between adjacent strikes, K_i are the strike prices, and Q(K_i) are the option mid-prices.\n",
    "# F is the forward price of the underlying asset, and K₀ is the first strike below F.\n",
    "# Taking the square root of sigma² gives the implied volatility (IV), in the same annualized units as HV and RV."
   ]
  },
  {
   "cell_type": "code",
   "execution_count": 382,
   "metadata": {},
   "outputs": [],
   "source": [
    "'''Computing IV for each row in options data'''\n",
    "#Well use the above formula with a 30 day rolling window and the option data in our DB to do this\n",
    "\n",
    "#BUG => The data quality seems to be very poor as there are unrealistic striker for TSLA ($1.67)\n",
    "#So, ill clean the data by going through each needed column and dropping outliers\n",
    "#however i also need to ensure that my model works for tail events, and properly need to only remove bad data, while still keeping the tail event data\n",
    "\n",
    "#perhaps its just best to use weighted average with open interest as weights, the free data seems too poor quality\n",
    "\n",
    "def clean_data(df, cols, lower=0.01, upper=0.99):\n",
    "    for c in ['implied_volatility', 'volume', 'open_interest']:\n",
    "        df[c] = pd.to_numeric(df[c])\n",
    "\n",
    "    for col in cols:\n",
    "        # Convert col vals to numeric coercing errors to NaN\n",
    "        df[col] = pd.to_numeric(df[col], errors='coerce')\n",
    "        # drop rows where the conversion failed (NaN values)\n",
    "        df = df[df[col].notna()]\n",
    "        \n",
    "        l = df[col].quantile(lower)\n",
    "        u = df[col].quantile(upper)\n",
    "        df = df[(df[col] >= l) & (df[col] <= u)]\n",
    "    return df"
   ]
  },
  {
   "cell_type": "code",
   "execution_count": 383,
   "metadata": {},
   "outputs": [
    {
     "name": "stdout",
     "output_type": "stream",
     "text": [
      "Data fetched and cleaned for AAPL\n",
      "Implied volatliity calculated for AAPL \n",
      "\n",
      "Data fetched and cleaned for AMD\n",
      "Implied volatliity calculated for AMD \n",
      "\n",
      "Data fetched and cleaned for AMZN\n",
      "Implied volatliity calculated for AMZN \n",
      "\n",
      "Data fetched and cleaned for INTC\n",
      "Implied volatliity calculated for INTC \n",
      "\n",
      "Data fetched and cleaned for META\n",
      "Implied volatliity calculated for META \n",
      "\n",
      "Data fetched and cleaned for MU\n",
      "Implied volatliity calculated for MU \n",
      "\n",
      "Data fetched and cleaned for NVDA\n",
      "Implied volatliity calculated for NVDA \n",
      "\n",
      "Data fetched and cleaned for PLTR\n",
      "Implied volatliity calculated for PLTR \n",
      "\n",
      "Data fetched and cleaned for SMCI\n",
      "Implied volatliity calculated for SMCI \n",
      "\n",
      "Data fetched and cleaned for TSLA\n",
      "Implied volatliity calculated for TSLA \n",
      "\n"
     ]
    }
   ],
   "source": [
    "'''Computing weighted averages for each ticker and appending that to our options_data'''\n",
    "#The weighted average formula we use weights both the open interest and volume of traded options\n",
    "\n",
    "for t in options_data.index.get_level_values('ticker').unique().tolist():\n",
    "    raw_data = get_data(t)\n",
    "    cleaned_data = clean_data(raw_data, ['strike', 'bid', 'ask'])\n",
    "    weighted_avg = lambda df: pd.Series(\n",
    "            (df['implied_volatility'] * (df['volume'] + df['open_interest'])).sum() / \n",
    "            (df['volume'] + df['open_interest']).sum(), \n",
    "            index=df.index)\n",
    "\n",
    "    cleaned_data['IV'] = cleaned_data.groupby('expiration').apply(weighted_avg).reset_index(level=0, drop=True)\n",
    "\n",
    "    print(\"Data fetched and cleaned for\", t)\n",
    "\n",
    "    ticker_df = options_data.loc[t].reset_index()\n",
    "    if 'IV' in ticker_df.columns:\n",
    "        ticker_df.drop('IV', axis=1, inplace=True)\n",
    "\n",
    "    ticker_df['date'] = pd.to_datetime(ticker_df['date'])\n",
    "    cleaned_data['expiration'] = pd.to_datetime(cleaned_data['expiration'])\n",
    "\n",
    "    ticker_df = ticker_df.sort_values('date')\n",
    "    cleaned_data = cleaned_data.sort_values('expiration')\n",
    "\n",
    "    ticker_df['IV'] = pd.merge_asof(ticker_df, \n",
    "                                    cleaned_data[['expiration', 'IV']], \n",
    "                                    left_on='date', \n",
    "                                    right_on='expiration', \n",
    "                                    direction='nearest')['IV']\n",
    "\n",
    "    ticker_df = ticker_df.set_index(['date'])\n",
    "    options_data.loc[t, 'IV'] = ticker_df['IV'].values\n",
    "\n",
    "    print(\"Implied volatliity calculated for\", t, \"\\n\")"
   ]
  },
  {
   "cell_type": "code",
   "execution_count": 385,
   "metadata": {},
   "outputs": [],
   "source": [
    "'''Building the linear regression model'''\n",
    "#Now we build the linear regression model for VolScore based on the formula above\n",
    "#we use HV from etf_data and RV from options_data for the weights\n",
    "\n",
    "from statsmodels.regression.rolling import RollingOLS\n",
    "import statsmodels.api as sm\n",
    "\n",
    "def compute_volscore_ticker(df, wndw=252):\n",
    "    df = df.sort_index(level = 'date').copy()\n",
    "\n",
    "    X = sm.add_constant(df[['RV', 'SV']])\n",
    "    Y = df['IV']\n",
    "    rolling_model = RollingOLS(Y, X, window=wndw)\n",
    "    results = rolling_model.fit().params\n",
    "\n",
    "    #IV_hat is constant + coeffs * values\n",
    "    df['IV_hat'] = results.iloc[:, 0] + results.iloc[:, 1] * df['RV'] + results.iloc[:, 2] * df['SV']\n",
    "    df['residual'] = Y - df['IV_hat']\n",
    "    df['sigma_res'] = df['residual'].rolling(window=wndw, min_periods=1).std()\n",
    "\n",
    "    df['VolScore'] = (df['IV'] - df['IV_hat']) / df['sigma_res']\n",
    "\n",
    "    return df\n",
    "\n",
    "def compute_volscore(df, wndw=252):\n",
    "    volscore_fn = lambda x: compute_volscore_ticker(x, wndw=wndw)\n",
    "    return df.copy().groupby(level = 'ticker').apply(volscore_fn)"
   ]
  },
  {
   "cell_type": "code",
   "execution_count": 386,
   "metadata": {},
   "outputs": [],
   "source": [
    "volscore_data = compute_volscore(options_data, wndw=252).dropna()\n",
    "volscore_data = volscore_data.reset_index(level=1, drop=True)"
   ]
  },
  {
   "cell_type": "code",
   "execution_count": null,
   "metadata": {},
   "outputs": [
    {
     "data": {
      "text/html": [
       "<div>\n",
       "<style scoped>\n",
       "    .dataframe tbody tr th:only-of-type {\n",
       "        vertical-align: middle;\n",
       "    }\n",
       "\n",
       "    .dataframe tbody tr th {\n",
       "        vertical-align: top;\n",
       "    }\n",
       "\n",
       "    .dataframe thead th {\n",
       "        text-align: right;\n",
       "    }\n",
       "</style>\n",
       "<table border=\"1\" class=\"dataframe\">\n",
       "  <thead>\n",
       "    <tr style=\"text-align: right;\">\n",
       "      <th></th>\n",
       "      <th>Price</th>\n",
       "      <th>close</th>\n",
       "      <th>high</th>\n",
       "      <th>low</th>\n",
       "      <th>open</th>\n",
       "      <th>volume</th>\n",
       "      <th>log_returns</th>\n",
       "      <th>RV</th>\n",
       "      <th>SV</th>\n",
       "      <th>IV</th>\n",
       "      <th>IV_hat</th>\n",
       "      <th>residual</th>\n",
       "      <th>sigma_res</th>\n",
       "      <th>VolScore</th>\n",
       "    </tr>\n",
       "    <tr>\n",
       "      <th>ticker</th>\n",
       "      <th>date</th>\n",
       "      <th></th>\n",
       "      <th></th>\n",
       "      <th></th>\n",
       "      <th></th>\n",
       "      <th></th>\n",
       "      <th></th>\n",
       "      <th></th>\n",
       "      <th></th>\n",
       "      <th></th>\n",
       "      <th></th>\n",
       "      <th></th>\n",
       "      <th></th>\n",
       "      <th></th>\n",
       "    </tr>\n",
       "  </thead>\n",
       "  <tbody>\n",
       "    <tr>\n",
       "      <th rowspan=\"3\" valign=\"top\">SMCI</th>\n",
       "      <th>2024-03-15</th>\n",
       "      <td>106.883003</td>\n",
       "      <td>113.559998</td>\n",
       "      <td>106.625999</td>\n",
       "      <td>112.345001</td>\n",
       "      <td>169640000</td>\n",
       "      <td>-0.055750</td>\n",
       "      <td>0.912651</td>\n",
       "      <td>0.122843</td>\n",
       "      <td>0.646323</td>\n",
       "      <td>0.652398</td>\n",
       "      <td>-0.006075</td>\n",
       "      <td>0.000859</td>\n",
       "      <td>-7.070763</td>\n",
       "    </tr>\n",
       "    <tr>\n",
       "      <th>2024-03-19</th>\n",
       "      <td>91.097000</td>\n",
       "      <td>92.500000</td>\n",
       "      <td>86.300003</td>\n",
       "      <td>88.861000</td>\n",
       "      <td>104844000</td>\n",
       "      <td>-0.093925</td>\n",
       "      <td>0.919889</td>\n",
       "      <td>0.121120</td>\n",
       "      <td>0.646323</td>\n",
       "      <td>0.651825</td>\n",
       "      <td>-0.005501</td>\n",
       "      <td>0.000757</td>\n",
       "      <td>-7.265148</td>\n",
       "    </tr>\n",
       "    <tr>\n",
       "      <th>2024-03-20</th>\n",
       "      <td>89.647003</td>\n",
       "      <td>90.550003</td>\n",
       "      <td>85.500000</td>\n",
       "      <td>90.000000</td>\n",
       "      <td>76457000</td>\n",
       "      <td>-0.016045</td>\n",
       "      <td>0.919956</td>\n",
       "      <td>0.121217</td>\n",
       "      <td>0.646323</td>\n",
       "      <td>0.652169</td>\n",
       "      <td>-0.005846</td>\n",
       "      <td>0.000718</td>\n",
       "      <td>-8.143391</td>\n",
       "    </tr>\n",
       "  </tbody>\n",
       "</table>\n",
       "</div>"
      ],
      "text/plain": [
       "Price                   close        high         low        open     volume  \\\n",
       "ticker date                                                                    \n",
       "SMCI   2024-03-15  106.883003  113.559998  106.625999  112.345001  169640000   \n",
       "       2024-03-19   91.097000   92.500000   86.300003   88.861000  104844000   \n",
       "       2024-03-20   89.647003   90.550003   85.500000   90.000000   76457000   \n",
       "\n",
       "Price              log_returns        RV        SV        IV    IV_hat  \\\n",
       "ticker date                                                              \n",
       "SMCI   2024-03-15    -0.055750  0.912651  0.122843  0.646323  0.652398   \n",
       "       2024-03-19    -0.093925  0.919889  0.121120  0.646323  0.651825   \n",
       "       2024-03-20    -0.016045  0.919956  0.121217  0.646323  0.652169   \n",
       "\n",
       "Price              residual  sigma_res  VolScore  \n",
       "ticker date                                       \n",
       "SMCI   2024-03-15 -0.006075   0.000859 -7.070763  \n",
       "       2024-03-19 -0.005501   0.000757 -7.265148  \n",
       "       2024-03-20 -0.005846   0.000718 -8.143391  "
      ]
     },
     "execution_count": 395,
     "metadata": {},
     "output_type": "execute_result"
    }
   ],
   "source": [
    "'''Building the signal generator'''\n",
    "#Now for each of the 10 stocks, we fetch their option_chain data using yFinance and run our weights and biases to generate volscore based signal\n",
    "\n"
   ]
  }
 ],
 "metadata": {
  "kernelspec": {
   "display_name": "Python 3",
   "language": "python",
   "name": "python3"
  },
  "language_info": {
   "codemirror_mode": {
    "name": "ipython",
    "version": 3
   },
   "file_extension": ".py",
   "mimetype": "text/x-python",
   "name": "python",
   "nbconvert_exporter": "python",
   "pygments_lexer": "ipython3",
   "version": "3.12.3"
  }
 },
 "nbformat": 4,
 "nbformat_minor": 2
}
