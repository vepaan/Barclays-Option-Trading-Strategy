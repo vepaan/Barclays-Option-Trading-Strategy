{
 "cells": [
  {
   "cell_type": "code",
   "execution_count": 30,
   "metadata": {},
   "outputs": [],
   "source": [
    "import yfinance as yf\n",
    "import numpy as np\n",
    "import matplotlib.pyplot as plt\n",
    "from polygon import RESTClient\n",
    "import dotenv\n",
    "import os\n",
    "import pandas as pd\n",
    "import warnings\n",
    "import heapq\n",
    "\n",
    "warnings.filterwarnings('ignore')\n",
    "\n",
    "dotenv.load_dotenv()\n",
    "POLYGON_API = os.getenv(\"POLYGON_API\")\n",
    "\n",
    "client = RESTClient(api_key=POLYGON_API)"
   ]
  },
  {
   "cell_type": "code",
   "execution_count": 40,
   "metadata": {},
   "outputs": [
    {
     "name": "stderr",
     "output_type": "stream",
     "text": [
      "[*********************100%***********************]  503 of 503 completed\n"
     ]
    }
   ],
   "source": [
    "'''Taking data from spy stocks to build the strat around'''\n",
    "#We parse the wikipedia page for spy data\n",
    "\n",
    "sp500 = pd.read_html('https://en.wikipedia.org/wiki/List_of_S%26P_500_companies')[0]\n",
    "sp500['Symbol'] = sp500['Symbol'].str.replace('.', '-')\n",
    "tickers = sp500['Symbol'].unique().tolist()\n",
    "\n",
    "data = yf.download(tickers, period='1y')\n",
    "data = data.stack()\n",
    "data.index.names = ['date', 'ticker']\n",
    "data.columns = data.columns.str.lower()"
   ]
  },
  {
   "cell_type": "code",
   "execution_count": 82,
   "metadata": {},
   "outputs": [],
   "source": [
    "'''Well now filter by dollar volume to only opearte with the stocks which fit our liquidity constraints'''\n",
    "#We will compute the mean dollar volume from the past year to filter liquid stocks\n",
    "\n",
    "data['dollarvol'] = (data['close'] * data['volume']) / 1e6\n",
    "data = data.groupby('ticker').mean() #finding mean dollar vol over past year\n",
    "\n",
    "data = data.sort_values(by='dollarvol', ascending = False)\n",
    "data = data.head(100) #top 100 liquid stocks"
   ]
  }
 ],
 "metadata": {
  "kernelspec": {
   "display_name": "Python 3",
   "language": "python",
   "name": "python3"
  },
  "language_info": {
   "codemirror_mode": {
    "name": "ipython",
    "version": 3
   },
   "file_extension": ".py",
   "mimetype": "text/x-python",
   "name": "python",
   "nbconvert_exporter": "python",
   "pygments_lexer": "ipython3",
   "version": "3.12.3"
  }
 },
 "nbformat": 4,
 "nbformat_minor": 2
}
